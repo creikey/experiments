{
 "cells": [
  {
   "cell_type": "code",
   "execution_count": 2,
   "metadata": {},
   "outputs": [],
   "source": [
    "import matplotlib.pyplot as plt\n",
    "import matplotlib.image as mpimg\n",
    "import numpy as np\n",
    "%matplotlib inline\n",
    "from math import floor"
   ]
  },
  {
   "cell_type": "code",
   "execution_count": 342,
   "metadata": {},
   "outputs": [],
   "source": [
    "import pandas\n",
    "\n",
    "mnist = pandas.read_csv(\"mnist-train.csv\").to_numpy() # file from https://www.kaggle.com/c/digit-recognizer/data\n",
    "training = mnist[:,1:]/255.0\n",
    "labels = mnist[:,0]\n"
   ]
  },
  {
   "cell_type": "code",
   "execution_count": 346,
   "metadata": {},
   "outputs": [
    {
     "name": "stdout",
     "output_type": "stream",
     "text": [
      "Showing: 8\n"
     ]
    },
    {
     "data": {
      "text/plain": [
       "<matplotlib.image.AxesImage at 0x16fb886fe50>"
      ]
     },
     "execution_count": 346,
     "metadata": {},
     "output_type": "execute_result"
    },
    {
     "data": {
      "image/png": "[encoded data removed]",
      "text/plain": [
       "<Figure size 432x288 with 1 Axes>"
      ]
     },
     "metadata": {
      "needs_background": "light"
     },
     "output_type": "display_data"
    }
   ],
   "source": [
    "\n",
    "sample_index = 5000\n",
    "print(f\"Showing: {labels[sample_index]}\")\n",
    "plt.imshow(np.reshape(training[sample_index], (28, 28)))"
   ]
  },
  {
   "cell_type": "code",
   "execution_count": 354,
   "metadata": {},
   "outputs": [],
   "source": [
    "test_training = training[35000:,:]\n",
    "test_labels = labels[35000:]\n",
    "\n",
    "training = training[:35000,:]\n",
    "labels = labels[:35000]"
   ]
  },
  {
   "cell_type": "code",
   "execution_count": 355,
   "metadata": {},
   "outputs": [],
   "source": [
    "proper_nn_output = np.zeros((labels.shape[0], 10))\n",
    "for i in range(proper_nn_output.shape[0]):\n",
    "    proper_nn_output[i] = np.zeros(10)\n",
    "    proper_nn_output[i][labels[i]] = 1\n"
   ]
  },
  {
   "cell_type": "code",
   "execution_count": 580,
   "metadata": {},
   "outputs": [],
   "source": [
    "from enum import Enum\n",
    "\n",
    "def relu(n):\n",
    "    return np.maximum(0, n)\n",
    "\n",
    "def d_relu(n):\n",
    "    return np.heaviside(n, 1)\n",
    "\n",
    "def sigmoid(n):\n",
    "    n = np.clip(n, -400, 400)\n",
    "    return 1.0 / (1.0 + np.exp(-n))\n",
    "\n",
    "def d_sigmoid(n):\n",
    "    n = np.clip(n, -200, 200)\n",
    "    return np.exp(n)/np.power((np.exp(n) + 1), 2)\n",
    "\n",
    "class Activation:\n",
    "    def __init__(self, func, derivative):\n",
    "        self.func = func\n",
    "        self.derivative = derivative\n",
    "\n",
    "RELU = Activation(relu, d_relu)\n",
    "SIGMOID = Activation(sigmoid, d_sigmoid)\n",
    "\n",
    "def cross_entropy_loss(proper_output, nn_output):\n",
    "    nn_output = np.clip(nn_output, 0.01, 0.99)\n",
    "    return -(proper_output*np.log(nn_output) + (1.0 - proper_output)*np.log(1.0 - nn_output))\n",
    "\n",
    "def average_cross_entropy_loss(proper_output, nn_output):\n",
    "    return np.mean(cross_entropy_loss(proper_output, nn_output) , axis=1)\n",
    "\n",
    "def d_cross_entropy_loss(proper_output, nn_output):\n",
    "    nn_output = np.clip(nn_output, 0.01, 0.99)\n",
    "    return -(nn_output - proper_output)/((nn_output - 1)*nn_output)\n",
    "\n",
    "class NNLayer:\n",
    "    def __init__(self,size: int, prev_size: int, activation: Activation):\n",
    "        self.data = np.zeros((size, 1))\n",
    "        if prev_size != -1:\n",
    "            self.weights = np.random.uniform(-1.0, 1.0, size=(size, prev_size))\n",
    "            self.biases = np.random.uniform(0.0, 0.0, size=(size, 1))\n",
    "            self.activation = activation\n",
    "\n",
    "class NeuralNet:\n",
    "    def __init__(self, input_size, layer_sizes, layer_activations):\n",
    "        assert(len(layer_sizes) == len(layer_activations))\n",
    "        \n",
    "        self.layers = [ NNLayer(input_size, -1, None) ]\n",
    "        \n",
    "        for i in range(len(layer_sizes)):\n",
    "            # self.layers[i] should point to the layer before the current one\n",
    "            self.layers.append(NNLayer(\n",
    "                layer_sizes[i],\n",
    "                self.layers[i].data.shape[0],\n",
    "                layer_activations[i]\n",
    "            ))\n",
    "        self.loss = 1000.0\n",
    "        self.pre_activation_cache = None # list of pre activation layer values\n",
    "    \n",
    "    def forward(self, input_data): \n",
    "        #assert(input_data.shape == self.layers[0].data.shape)\n",
    "                                             \n",
    "        self.pre_activation_cache = [None] * (len(self.layers))\n",
    "        self.layers[0].data = input_data\n",
    "        #print(f\" data layer shape: {self.layers[0].data.shape}\")\n",
    "        #print(f\" output layer shape: {self.layers[1].data.shape}\")\n",
    "        for i in range (1, len(self.layers)): # 0th layer is the data layer\n",
    "            l = self.layers[i]\n",
    "            prev_l = self.layers[i - 1]\n",
    "            self.pre_activation_cache[i] = np.atleast_2d(np.dot(l.weights, prev_l.data)) + np.reshape(l.biases, (l.biases.shape[0], 1))\n",
    "            #print(f\"dot: {np.atleast_2d(np.dot(l.weights, prev_l.data)).shape}\")\n",
    "            #print(f\"biases: {np.reshape(l.biases, (l.biases.shape[0], 1)).shape}\")\n",
    "            #print(f\"adding them: {(np.atleast_2d(np.dot(l.weights, prev_l.data)) + np.reshape(l.biases, (l.biases.shape[0], 1))).shape}\")\n",
    "            l.data = l.activation.func(self.pre_activation_cache[i])\n",
    "    \n",
    "    def get_output(self):\n",
    "        return self.layers[len(self.layers) - 1].data\n",
    "    \n",
    "    def get_predicted_digit(self):\n",
    "        return np.argmax(self.get_output(), axis=0)\n",
    "    \n",
    "    def get_loss(self, expected_last_layer):\n",
    "        return np.sum(cross_entropy_loss(expected_last_layer, self.get_output()))\n",
    "    \n",
    "    def backward(self, expected_last_layer): # tunes layers based on the expected value and cache\n",
    "        learning_rate = 0.01\n",
    "        #cur_gradient = np.reshape(average_cross_entropy_loss(expected_last_layer, self.get_output()), (expected_last_layer.shape[0], 1))\n",
    "        cur_gradient = d_cross_entropy_loss(expected_last_layer, self.get_output())\n",
    "        #print(f\"initial gradient: {cur_gradient}\")\n",
    "        #print(cur_gradient)\n",
    "\n",
    "        for i in range(len(self.layers) - 1, 0, -1): # skip over the first layer as it is the input layer\n",
    "            #print(self.layers[i].weights.shape)\n",
    "            #print(self.layers[i-1].data.shape\n",
    "            #print(self.layers[i].activation.derivative(self.pre_activation_cache[i]).shape)\n",
    "            #print(cur_gradient.shape)\n",
    "            #print(f\"activation cache shape: {self.pre_activation_cache[i].shape}\")\n",
    "            \n",
    "            delta = self.layers[i].activation.derivative(self.pre_activation_cache[i]) * cur_gradient # this elementwise product is needed for all gradients bc of chain rule\n",
    "            \n",
    "            #print(f\"cur gradient: {cur_gradient.shape}\")\n",
    "            #print(np.reshape(np.mean(d_act_of_pre * cur_gradient, axis=1), (self.layers[i].biases.shape[0], 1)))\n",
    "            \n",
    "            #print(f\"prev: {self.layers[i - 1].data.shape}\")\n",
    "            #print(f\"prev mean: {self.layers[i - 1].data.mean(axis=1).reshape((-1, 1)).T.shape}\")\n",
    "            #print(f\"dsig: {d_act_of_pre.mean(axis=0).reshape((-1, 1)).shape}\")\n",
    "            #print(f\"dcost: {cur_gradient.mean(axis=0).reshape((-1, 1)).shape}\")\n",
    "            self.layers[i].weights += -learning_rate * (delta).dot(self.layers[i - 1].data.T) / expected_last_layer.shape[1]\n",
    "            self.layers[i].biases += -learning_rate * (delta).mean(axis=1).reshape((-1, 1))\n",
    "            \n",
    "            #self.layers[i].weights += -learning_rate * \\\n",
    "            #    self.layers[i - 1].data.mean(axis=1).reshape((-1, 1)).T * \\\n",
    "            #    d_act_of_pre.mean(axis=1).reshape((-1, 1)) * \\\n",
    "            #    cur_gradient.mean(axis=1).reshape((-1, 1)) \n",
    "            \n",
    "            #self.layers[i].weights += -learning_rate * self.layers[i - 1].data.dot(d_act_of_pre.T).T * cur_gradient\n",
    "            \n",
    "            #self.layers[i].biases += -learning_rate * np.reshape(np.mean(d_act_of_pre * cur_gradient, axis=1), (self.layers[i].biases.shape[0], 1))\n",
    "            #self.layers[i].weights += -learning_rate*np.multiply(self.layers[i - 1].data.T, np.reshape(np.multiply(cur_gradient, self.layers[i].activation.derivative(self.pre_activation_cache[i])), (self.layers[i].data.shape[0], 1)))\n",
    "            #self.layers[i].biases += -learning_rate*cur_gradient\n",
    "            \n",
    "            if i > 1: # don't compute the next gradient if it's the layer before the input layer\n",
    "                cur_gradient = self.layers[i].weights.T.dot(delta).mean(axis=1).reshape((-1, 1))\n",
    "\n",
    "                #cur_gradient = np.sum(self.layers[i].weights.T.dot(d_act_of_pre * cur_gradient)/expected_last_layer.shape[1], axis=1).reshape((-1, 1))\n",
    "                \n",
    "                #print(self.layers[i].weights.dot(d_act_of_pre).shape)\n",
    "                #print(f\"summed d_act_of_pre: {d_act_of_pre.sum(axis=1).T}\")\n",
    "                #cur_gradient = np.sum(self.layers[i].weights.T * d_act_of_pre.T.mean(axis=0) * cur_gradient.T, axis=1)\n",
    "                #print(cur_gradient)\n",
    "                #cur_gradient = cur_gradient.reshape((cur_gradient.shape[0], 1))\n",
    "                #cur_gradient = self.layers[i].weights * d_act_of_pre * cur_gradient\n",
    "                #assert(False)\n",
    "                #cur_gradient = np.multiply(np.dot(self.layers[i].weights.T, cur_gradient), self.layers[i - 1].activation.derivative(self.pre_activation_cache[i-1]))\n",
    "                \n",
    "            \n",
    "            \n",
    "            "
   ]
  },
  {
   "cell_type": "code",
   "execution_count": 679,
   "metadata": {},
   "outputs": [],
   "source": [
    "# I don't know why, but the more sigmoid layers added to the network doesn't increase the accuracy of the model\n",
    "# after 5,000 training rounds with batch size of 100:\n",
    "# single 10 layer sigmoid : 70%\n",
    "# 128 then 10 layer sigmo8id: 71%\n",
    "# I think that this could mean that the way I set the new gradient to propagate backwards is somehow bugged, but I'm not sure\n",
    "# RELU layers also refuse to give any good results\n",
    "\n",
    "#nn = NeuralNet(len(training[0]), [10, 10, 10, 10, 10, 10], [SIGMOID, SIGMOID, SIGMOID, SIGMOID, SIGMOID, SIGMOID])\n",
    "#nn = NeuralNet(len(training[0]), [16, 16, 10], [RELU, RELU, SIGMOID])\n",
    "nn = NeuralNet(len(training[0]), [128, 10], [SIGMOID, SIGMOID])\n",
    "#nn = NeuralNet(len(training[0]), [2000, 10], [RELU, SIGMOID]) # this one has an accuracy of 15% after plateauing\n",
    "#nn = NeuralNet(len(training[0]), [4000, 10], [RELU, SIGMOID]) # this one has 10% !!!!\n",
    "#nn = NeuralNet(len(training[0]), [10], [SIGMOID])"
   ]
  },
  {
   "cell_type": "code",
   "execution_count": 690,
   "metadata": {},
   "outputs": [
    {
     "data": {
      "text/plain": [
       "[<matplotlib.lines.Line2D at 0x16f9ee16fd0>]"
      ]
     },
     "execution_count": 690,
     "metadata": {},
     "output_type": "execute_result"
    },
    {
     "data": {
      "image/png": "[encoded data removed]",
      "text/plain": [
       "<Figure size 432x288 with 1 Axes>"
      ]
     },
     "metadata": {
      "needs_background": "light"
     },
     "output_type": "display_data"
    }
   ],
   "source": [
    "import random\n",
    "losses = []\n",
    "\n",
    "for i in range(10000):\n",
    "    # forward prop\n",
    "    epoch_sample_indices = np.random.randint(training.shape[0], size=100)\n",
    "    #epoch_sample_indices = [13934]\n",
    "    \n",
    "    epoch_training = training[epoch_sample_indices,:].T\n",
    "    epoch_labels = proper_nn_output[epoch_sample_indices,:].T\n",
    "\n",
    "    #print(epoch_training.shape)\n",
    "    nn.forward(epoch_training)\n",
    "    \n",
    "    assert(nn.get_output().shape == epoch_labels.shape)\n",
    "    #print(expected_value)\n",
    "    #print(cur_data)\n",
    "    #print(cross_entropy_loss(expected_value, cur_data))\n",
    "   #print(layer_wb_cache[0])\n",
    "    #loss = np.sum(cross_entropy_loss(expected_value, cur_data))\n",
    "    losses.append(nn.get_loss(epoch_labels))\n",
    "    #print(f\"Actual number: {actual_number}\")\n",
    "    #print(f\"Loss: {losses[-1]}\")\n",
    "    #plt.plot(nn.get_output())\n",
    "    \n",
    "    # backprop\n",
    "    nn.backward(epoch_labels)\n",
    "\n",
    "plt.plot(losses)\n"
   ]
  },
  {
   "cell_type": "code",
   "execution_count": 712,
   "metadata": {},
   "outputs": [
    {
     "name": "stdout",
     "output_type": "stream",
     "text": [
      "Actual number: 3\n",
      "Loss: 0.1534764549173605\n"
     ]
    },
    {
     "data": {
      "text/plain": [
       "[<matplotlib.lines.Line2D at 0x16f9faaf9d0>]"
      ]
     },
     "execution_count": 712,
     "metadata": {},
     "output_type": "execute_result"
    },
    {
     "data": {
      "image/png": "[encoded data removed]",
      "text/plain": [
       "<Figure size 432x288 with 1 Axes>"
      ]
     },
     "metadata": {
      "needs_background": "light"
     },
     "output_type": "display_data"
    }
   ],
   "source": [
    "to_predict = random.randint(0, 30000)\n",
    "#to_predict = 13934\n",
    "\n",
    "actual_number = labels[to_predict]\n",
    "input_data = training[to_predict]\n",
    "input_data = np.reshape(input_data, (input_data.shape[0], 1))\n",
    "\n",
    "expected_value = np.zeros((10, 1))\n",
    "expected_value[actual_number] = 1\n",
    "\n",
    "    \n",
    "nn.forward(input_data)\n",
    "  \n",
    "print(f\"Actual number: {actual_number}\") \n",
    "print(f\"Loss: {nn.get_loss(expected_value)}\")\n",
    "plt.plot(nn.get_output())"
   ]
  },
  {
   "cell_type": "code",
   "execution_count": 713,
   "metadata": {},
   "outputs": [
    {
     "data": {
      "text/plain": [
       "<matplotlib.image.AxesImage at 0x16f9fafec40>"
      ]
     },
     "execution_count": 713,
     "metadata": {},
     "output_type": "execute_result"
    },
    {
     "data": {
      "image/png": "[encoded data removed]",
      "text/plain": [
       "<Figure size 432x288 with 1 Axes>"
      ]
     },
     "metadata": {
      "needs_background": "light"
     },
     "output_type": "display_data"
    }
   ],
   "source": [
    "plt.imshow(input_data.reshape((28, 28)))"
   ]
  },
  {
   "cell_type": "code",
   "execution_count": 715,
   "metadata": {},
   "outputs": [
    {
     "data": {
      "text/plain": [
       "<matplotlib.image.AxesImage at 0x16f9fb5a520>"
      ]
     },
     "execution_count": 715,
     "metadata": {},
     "output_type": "execute_result"
    },
    {
     "data": {
      "image/png": "[encoded data removed]",
      "text/plain": [
       "<Figure size 432x288 with 1 Axes>"
      ]
     },
     "metadata": {
      "needs_background": "light"
     },
     "output_type": "display_data"
    }
   ],
   "source": [
    "plt.imshow(nn.layers[1].weights[3].reshape((28, 28)))"
   ]
  },
  {
   "cell_type": "code",
   "execution_count": 735,
   "metadata": {},
   "outputs": [
    {
     "name": "stdout",
     "output_type": "stream",
     "text": [
      "0.845\n"
     ]
    }
   ],
   "source": [
    "nn.forward(test_training.T)\n",
    "losses = cross_entropy_loss(test_labels, nn.get_output()).mean(axis=0)\n",
    "\n",
    "best_index = np.argmin(losses)\n",
    "worst_index = np.argmax(losses)\n",
    "\n",
    "print(np.sum(nn.get_predicted_digit() == test_labels) / test_labels.shape[0]) # accuracy in never before seen dataset!"
   ]
  },
  {
   "cell_type": "code",
   "execution_count": 736,
   "metadata": {},
   "outputs": [
    {
     "name": "stdout",
     "output_type": "stream",
     "text": [
      "Worst loss: 40.09389822500073\n"
     ]
    },
    {
     "data": {
      "text/plain": [
       "<matplotlib.image.AxesImage at 0x16fa172feb0>"
      ]
     },
     "execution_count": 736,
     "metadata": {},
     "output_type": "execute_result"
    },
    {
     "data": {
      "image/png": "[encoded data removed]",
      "text/plain": [
       "<Figure size 432x288 with 1 Axes>"
      ]
     },
     "metadata": {
      "needs_background": "light"
     },
     "output_type": "display_data"
    }
   ],
   "source": [
    "print(f\"Worst loss: {losses[worst_index]}\")\n",
    "plt.imshow(test_training[worst_index].reshape((28, 28)))"
   ]
  },
  {
   "cell_type": "code",
   "execution_count": 737,
   "metadata": {},
   "outputs": [
    {
     "data": {
      "text/plain": [
       "[<matplotlib.lines.Line2D at 0x16fa1786bb0>]"
      ]
     },
     "execution_count": 737,
     "metadata": {},
     "output_type": "execute_result"
    },
    {
     "data": {
      "image/png": "[encoded data removed]",
      "text/plain": [
       "<Figure size 432x288 with 1 Axes>"
      ]
     },
     "metadata": {
      "needs_background": "light"
     },
     "output_type": "display_data"
    }
   ],
   "source": [
    "# worst prediction\n",
    "plt.plot(nn.get_output()[:,worst_index])"
   ]
  },
  {
   "cell_type": "code",
   "execution_count": 739,
   "metadata": {},
   "outputs": [
    {
     "name": "stdout",
     "output_type": "stream",
     "text": [
      "Best loss: 0.013821767464390806\n"
     ]
    },
    {
     "data": {
      "text/plain": [
       "<matplotlib.image.AxesImage at 0x16fa17e5460>"
      ]
     },
     "execution_count": 739,
     "metadata": {},
     "output_type": "execute_result"
    },
    {
     "data": {
      "image/png": "[encoded data removed]",
      "text/plain": [
       "<Figure size 432x288 with 1 Axes>"
      ]
     },
     "metadata": {
      "needs_background": "light"
     },
     "output_type": "display_data"
    }
   ],
   "source": [
    "print(f\"Best loss: {losses[best_index]}\")\n",
    "plt.imshow(test_training[best_index].reshape((28, 28)))"
   ]
  },
  {
   "cell_type": "code",
   "execution_count": 740,
   "metadata": {},
   "outputs": [
    {
     "data": {
      "text/plain": [
       "[<matplotlib.lines.Line2D at 0x16fa183d160>]"
      ]
     },
     "execution_count": 740,
     "metadata": {},
     "output_type": "execute_result"
    },
    {
     "data": {
      "image/png": "[encoded data removed]",
      "text/plain": [
       "<Figure size 432x288 with 1 Axes>"
      ]
     },
     "metadata": {
      "needs_background": "light"
     },
     "output_type": "display_data"
    }
   ],
   "source": [
    "# best prediction\n",
    "plt.plot(nn.get_output()[:, best_index])"
   ]
  },
  {
   "cell_type": "code",
   "execution_count": null,
   "metadata": {},
   "outputs": [],
   "source": []
  }
 ],
 "metadata": {
  "kernelspec": {
   "display_name": "Python 3",
   "language": "python",
   "name": "python3"
  },
  "language_info": {
   "codemirror_mode": {
    "name": "ipython",
    "version": 3
   },
   "file_extension": ".py",
   "mimetype": "text/x-python",
   "name": "python",
   "nbconvert_exporter": "python",
   "pygments_lexer": "ipython3",
   "version": "3.8.5"
  }
 },
 "nbformat": 4,
 "nbformat_minor": 5
}
